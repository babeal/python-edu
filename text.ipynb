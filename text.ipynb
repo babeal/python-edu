{
 "cells": [
  {
   "cell_type": "markdown",
   "metadata": {},
   "source": [
    "# String and character manipulation"
   ]
  },
  {
   "cell_type": "code",
   "execution_count": 18,
   "metadata": {},
   "outputs": [
    {
     "name": "stdout",
     "output_type": "stream",
     "text": [
      "Built-in character list options:\n",
      "\n",
      "    ascii_letters: abcdefghijklmnopqrstuvwxyzABCDEFGHIJKLMNOPQRSTUVWXYZ\n",
      "    ascii_uppercase: ABCDEFGHIJKLMNOPQRSTUVWXYZ\n",
      "    ascii_lowercase: abcdefghijklmnopqrstuvwxyz\n",
      "\n"
     ]
    }
   ],
   "source": [
    "import string\n",
    "\n",
    "print(f\"\"\"Built-in character list options:\n",
    "\n",
    "    ascii_letters: {string.ascii_letters}\n",
    "    ascii_uppercase: {string.ascii_uppercase}\n",
    "    ascii_lowercase: {string.ascii_lowercase}\n",
    "\"\"\")"
   ]
  },
  {
   "cell_type": "code",
   "execution_count": 20,
   "metadata": {},
   "outputs": [
    {
     "name": "stdout",
     "output_type": "stream",
     "text": [
      "['A', 'B', 'C', 'D', 'E', 'F', 'G', 'H', 'I', 'J', 'K', 'L', 'M', 'N', 'O', 'P', 'Q', 'R', 'S', 'T', 'U', 'V', 'W', 'X', 'Y', 'Z']\n"
     ]
    }
   ],
   "source": [
    "# generate an array of capital letters using built-in static variable\n",
    "\n",
    "letters_str = string.ascii_uppercase\n",
    "\n",
    "print(type(letters_str)) # type is string\n",
    "\n",
    "# convert string to list of characters\n",
    "letters = list(letters_str)\n",
    "\n",
    "print(letters)"
   ]
  },
  {
   "cell_type": "code",
   "execution_count": 9,
   "metadata": {},
   "outputs": [
    {
     "name": "stdout",
     "output_type": "stream",
     "text": [
      "['A', 'B', 'C', 'D', 'E', 'F', 'G', 'H', 'I', 'J', 'K', 'L', 'M', 'N', 'O', 'P', 'Q', 'R', 'S', 'T', 'U', 'V', 'W', 'X', 'Y', 'Z']\n"
     ]
    }
   ],
   "source": [
    "# generate an array of capital letters using for loop\n",
    "\n",
    "s = \"A\"\n",
    "letters = []\n",
    "for i in range(26):\n",
    "    # chr converts an integer to a character \n",
    "    # ord returns the characters integer value\n",
    "    c = chr(ord(s) + i)\n",
    "    letters.append(c)\n",
    "   \n",
    "print(letters)"
   ]
  },
  {
   "cell_type": "code",
   "execution_count": 10,
   "metadata": {},
   "outputs": [
    {
     "name": "stdout",
     "output_type": "stream",
     "text": [
      "['A', 'B', 'C', 'D', 'E', 'F', 'G', 'H', 'I', 'J', 'K', 'L', 'M', 'N', 'O', 'P', 'Q', 'R', 'S', 'T', 'U', 'V', 'W', 'X', 'Y', 'Z']\n"
     ]
    }
   ],
   "source": [
    "# generate an array of capital letters using list comprehension\n",
    "\n",
    "letters = [chr(ord(s) + i) for i in range(26)]\n",
    "\n",
    "print(letters)"
   ]
  },
  {
   "cell_type": "markdown",
   "metadata": {},
   "source": []
  },
  {
   "cell_type": "markdown",
   "metadata": {},
   "source": [
    "# String formatting"
   ]
  },
  {
   "cell_type": "code",
   "execution_count": 26,
   "metadata": {},
   "outputs": [
    {
     "name": "stdout",
     "output_type": "stream",
     "text": [
      "                        Lorem ipsum dolor sit amet\n",
      "Lorem ipsum dolor sit amet                        \n",
      "Lorem ipsum dolor sit amet                        \n"
     ]
    }
   ],
   "source": [
    "# string formatting\n",
    "\n",
    "s = \"Lorem ipsum dolor sit amet\"\n",
    "\n",
    "print(f\"{s:>50s}\")\n",
    "print(f\"{s:<50s}\")\n",
    "print(f\"{s:50s}\")"
   ]
  }
 ],
 "metadata": {
  "interpreter": {
   "hash": "aee8b7b246df8f9039afb4144a1f6fd8d2ca17a180786b69acc140d282b71a49"
  },
  "kernelspec": {
   "display_name": "Python 3.9.9 64-bit",
   "language": "python",
   "name": "python3"
  },
  "language_info": {
   "codemirror_mode": {
    "name": "ipython",
    "version": 3
   },
   "file_extension": ".py",
   "mimetype": "text/x-python",
   "name": "python",
   "nbconvert_exporter": "python",
   "pygments_lexer": "ipython3",
   "version": "3.9.9"
  },
  "orig_nbformat": 4
 },
 "nbformat": 4,
 "nbformat_minor": 2
}
