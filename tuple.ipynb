{
 "cells": [
  {
   "cell_type": "markdown",
   "metadata": {},
   "source": [
    "# Tuples"
   ]
  },
  {
   "cell_type": "code",
   "execution_count": 1,
   "metadata": {},
   "outputs": [
    {
     "name": "stdout",
     "output_type": "stream",
     "text": [
      "('Peanut butter', 'Jelly')\n",
      "<class 'tuple'>\n"
     ]
    }
   ],
   "source": [
    "# create a tuple\n",
    "\n",
    "t = ('Peanut butter', 'Jelly')\n",
    "\n",
    "print(t)\n",
    "print(type(t))\n"
   ]
  },
  {
   "cell_type": "code",
   "execution_count": 2,
   "metadata": {},
   "outputs": [
    {
     "name": "stdout",
     "output_type": "stream",
     "text": [
      "('Peanut butter', 'Jelly')\n",
      "<class 'tuple'>\n"
     ]
    }
   ],
   "source": [
    "# convert from array\n",
    "a = ['Peanut butter', 'Jelly']\n",
    "t = tuple(a)\n",
    "\n",
    "print(t)\n",
    "print(type(t))"
   ]
  },
  {
   "cell_type": "code",
   "execution_count": 3,
   "metadata": {},
   "outputs": [
    {
     "name": "stdout",
     "output_type": "stream",
     "text": [
      "('i_1', 'i_2')\n",
      "<class 'tuple'>\n"
     ]
    }
   ],
   "source": [
    "# create tuple from dictionary (direct)\n",
    "# only keys are added to the tuple\n",
    "\n",
    "d = {\n",
    "    \"i_1\": \"Peanut butter\",\n",
    "    \"i_2\": \"Jelly\"\n",
    "}\n",
    "\n",
    "t = tuple(d)\n",
    "\n",
    "print(t)\n",
    "print(type(t))"
   ]
  },
  {
   "cell_type": "code",
   "execution_count": 4,
   "metadata": {},
   "outputs": [
    {
     "name": "stdout",
     "output_type": "stream",
     "text": [
      "(('i_1', 'Peanut butter'), ('i_2', 'Jelly'))\n",
      "<class 'tuple'>\n"
     ]
    }
   ],
   "source": [
    "# create tuple from dictionary (using items)\n",
    "# creates a tuple of tuples.  \n",
    "d = {\n",
    "    \"i_1\": \"Peanut butter\",\n",
    "    \"i_2\": \"Jelly\"\n",
    "}\n",
    "\n",
    "t = tuple(d.items())\n",
    "\n",
    "print(t)\n",
    "print(type(t))"
   ]
  },
  {
   "cell_type": "code",
   "execution_count": 3,
   "metadata": {},
   "outputs": [
    {
     "name": "stdout",
     "output_type": "stream",
     "text": [
      "Peanut butter - Jelly\n"
     ]
    }
   ],
   "source": [
    "# unpack a tuple\n",
    "\n",
    "t = ('Peanut butter', 'Jelly')\n",
    "\n",
    "a, b = t\n",
    "\n",
    "print(a, \"-\",  b)"
   ]
  },
  {
   "cell_type": "code",
   "execution_count": null,
   "metadata": {},
   "outputs": [],
   "source": []
  }
 ],
 "metadata": {
  "interpreter": {
   "hash": "aee8b7b246df8f9039afb4144a1f6fd8d2ca17a180786b69acc140d282b71a49"
  },
  "kernelspec": {
   "display_name": "Python 3.9.9 64-bit",
   "language": "python",
   "name": "python3"
  },
  "language_info": {
   "codemirror_mode": {
    "name": "ipython",
    "version": 3
   },
   "file_extension": ".py",
   "mimetype": "text/x-python",
   "name": "python",
   "nbconvert_exporter": "python",
   "pygments_lexer": "ipython3",
   "version": "3.9.9"
  },
  "orig_nbformat": 4
 },
 "nbformat": 4,
 "nbformat_minor": 2
}
