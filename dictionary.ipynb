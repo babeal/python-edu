{
 "cells": [
  {
   "cell_type": "markdown",
   "metadata": {},
   "source": [
    "# Dictionaries "
   ]
  },
  {
   "cell_type": "code",
   "execution_count": 1,
   "metadata": {},
   "outputs": [
    {
     "name": "stdout",
     "output_type": "stream",
     "text": [
      "{'name': 'Mike', 'age': 42}\n"
     ]
    }
   ],
   "source": [
    "# create a dictionary\n",
    "\n",
    "person = {\n",
    "    \"name\": \"Mike\",\n",
    "    \"age\": 42\n",
    "}\n",
    "\n",
    "print(person)"
   ]
  },
  {
   "cell_type": "code",
   "execution_count": 16,
   "metadata": {},
   "outputs": [
    {
     "name": "stdout",
     "output_type": "stream",
     "text": [
      "Mike\n",
      "Mike\n",
      "default\n",
      "{'name': 'John', 'age': 43}\n",
      "{'name': 'Bob', 'age': 43}\n",
      "{'name': 'Bob', 'age': 43, 'location': 'Texas'}\n",
      "{'name': 'Bob', 'age': 43}\n",
      "Texas\n"
     ]
    }
   ],
   "source": [
    "# access, update and remove items\n",
    "\n",
    "person = {\n",
    "    \"name\": \"Mike\",\n",
    "    \"age\": 42\n",
    "}\n",
    "\n",
    "# Output: Mike\n",
    "print(person[\"name\"]) # will return key error if key doesn't exist\n",
    "print(person.get(\"name\")) # will return None if key doesn't exist\n",
    "\n",
    "# Output: default\n",
    "print(person.get(\"last_name\", \"default\"))\n",
    "\n",
    "# update with iterable\n",
    "person.update(name=\"John\", age=43)\n",
    "print(person)\n",
    "\n",
    "# update with dictionary\n",
    "person.update({\"name\": \"Bob\"})\n",
    "print(person)\n",
    "\n",
    "# update by assignment\n",
    "person[\"location\"] = \"Texas\"\n",
    "print(person)\n",
    "\n",
    "# remove key value pair,\n",
    "# the return from pop is the value not the key value pair tuple\n",
    "value = person.pop(\"location\")\n",
    "print(person)\n",
    "print(value)\n",
    "\n",
    "# remove all items\n",
    "person.clear()\n",
    "\n",
    "# delete dictionary\n",
    "del person"
   ]
  },
  {
   "cell_type": "code",
   "execution_count": 2,
   "metadata": {},
   "outputs": [
    {
     "name": "stdout",
     "output_type": "stream",
     "text": [
      "{'name': 'Mike', 42: 'age', ('Ken', 'Jane'): 'parents'}\n"
     ]
    }
   ],
   "source": [
    "# dictionary keys can be of string, number or tuple\n",
    "\n",
    "person = {\n",
    "    \"name\": \"Mike\",\n",
    "    42: \"age\",\n",
    "    (\"Ken\", \"Jane\"): \"parents\"\n",
    "}\n",
    "\n",
    "print(person)"
   ]
  }
 ],
 "metadata": {
  "interpreter": {
   "hash": "aee8b7b246df8f9039afb4144a1f6fd8d2ca17a180786b69acc140d282b71a49"
  },
  "kernelspec": {
   "display_name": "Python 3.9.9 64-bit",
   "language": "python",
   "name": "python3"
  },
  "language_info": {
   "codemirror_mode": {
    "name": "ipython",
    "version": 3
   },
   "file_extension": ".py",
   "mimetype": "text/x-python",
   "name": "python",
   "nbconvert_exporter": "python",
   "pygments_lexer": "ipython3",
   "version": "3.9.9"
  },
  "orig_nbformat": 4
 },
 "nbformat": 4,
 "nbformat_minor": 2
}
